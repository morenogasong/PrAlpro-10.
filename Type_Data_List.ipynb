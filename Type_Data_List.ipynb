{
  "nbformat": 4,
  "nbformat_minor": 0,
  "metadata": {
    "colab": {
      "provenance": []
    },
    "kernelspec": {
      "name": "python3",
      "display_name": "Python 3"
    },
    "language_info": {
      "name": "python"
    }
  },
  "cells": [
    {
      "cell_type": "markdown",
      "source": [
        "**Latihan 9.1**\n",
        "Buatlah sebuah program untuk mencari 3 nilai terbaik pada sebuah list. Program akan menampilkan 3 nilai terbaik dimulai dari yang paling tinggi.\n"
      ],
      "metadata": {
        "id": "Dt0fTEkEQE8L"
      }
    },
    {
      "cell_type": "code",
      "source": [
        "def cari_tiga_terbesar(numbers):\n",
        "    tiga_terbesar = sorted(numbers, reverse=True)[:3]\n",
        "    return tiga_terbesar\n",
        "\n",
        "numbers = [50, 23, 34, 45, 67, 89, 12, 3]\n",
        "print(\"Tiga angka terbesar yaitu : \", cari_tiga_terbesar(numbers))"
      ],
      "metadata": {
        "colab": {
          "base_uri": "https://localhost:8080/"
        },
        "id": "vFefGy1vQKpg",
        "outputId": "be9f7373-b562-466f-cf8d-6d6dc9cb5984"
      },
      "execution_count": 1,
      "outputs": [
        {
          "output_type": "stream",
          "name": "stdout",
          "text": [
            "Tiga angka terbesar yaitu :  [89, 67, 50]\n"
          ]
        }
      ]
    },
    {
      "cell_type": "markdown",
      "source": [
        "**Latihan 9.2**\n",
        "Buatlah sebuah program yang meminta masukan dari user dan menyimpannya dalam bentuk tipe data list dalam bentuk angka. Saat user memasukkan masukan 'done', maka program akan menampilkan nilai maksimum dan minimum dari deretan angka yang sudah user masukkan. Gunakan fungsi list max() dan min() pada program ini."
      ],
      "metadata": {
        "id": "B4jn_oDpQfr0"
      }
    },
    {
      "cell_type": "code",
      "source": [
        "print(\"Masukkan daftar angka. Ketik 'selesai' setelah Anda selesai.\")\n",
        "\n",
        "angka = []\n",
        "while True:\n",
        "    user_input = input(\": \")\n",
        "    if user_input.lower() == \"selesai\":\n",
        "        break\n",
        "    try:\n",
        "        num = float(user_input)\n",
        "        angka.append(num)\n",
        "    except ValueError:\n",
        "        print(\"Masukan tidak valid. Masukkan nomor.\")\n",
        "\n",
        "print(angka)\n",
        "if len(angka) > 0:\n",
        "    print(\"Maximum:\", max(angka))\n",
        "    print(\"Minimum:\", min(angka))\n",
        "else:\n",
        "    print(\"Tidak ada nomor yang dimasukkan.\")"
      ],
      "metadata": {
        "colab": {
          "base_uri": "https://localhost:8080/"
        },
        "id": "nc9XKSbHQl9z",
        "outputId": "6deede91-9b54-4c9a-f77e-cf935568b2c4"
      },
      "execution_count": 2,
      "outputs": [
        {
          "output_type": "stream",
          "name": "stdout",
          "text": [
            "Masukkan daftar angka. Ketik 'selesai' setelah Anda selesai.\n",
            ": 45\n",
            ": 35\n",
            ": 90\n",
            ": 68\n",
            ": 78\n",
            ": 95\n",
            ": 91\n",
            ": selesai\n",
            "[45.0, 35.0, 90.0, 68.0, 78.0, 95.0, 91.0]\n",
            "Maximum: 95.0\n",
            "Minimum: 35.0\n"
          ]
        }
      ]
    },
    {
      "cell_type": "markdown",
      "source": [
        "**Latihan 9.3**\n",
        "Buatlah sebuah program yang meminta masukan dari user dan menyimpannya dalam bentuk tipe data list dalam bentuk angka. Saat user memasukkan masukan 'done', maka program akan menampilkan nilai maksimum dan minimum dari deretan angka yang sudah user masukkan. Gunakan fungsi list max() dan min() pada program ini.\n"
      ],
      "metadata": {
        "id": "OBieYUeEQwKl"
      }
    },
    {
      "cell_type": "code",
      "source": [
        "kata = open('indonesia.txt')\n",
        "\n",
        "print(\"======ISI BERITA======\")\n",
        "word = []\n",
        "for i in kata:\n",
        "    i = i.strip()\n",
        "    print(i)\n",
        "    i = i.split(' ')\n",
        "    word.extend(i)\n",
        "\n",
        "print(\"====KATA UNIK PADA BERITA===\")\n",
        "print(word)\n",
        "\n",
        "kata.close"
      ],
      "metadata": {
        "id": "bQWr0gwfQ0AT"
      },
      "execution_count": null,
      "outputs": []
    }
  ]
}